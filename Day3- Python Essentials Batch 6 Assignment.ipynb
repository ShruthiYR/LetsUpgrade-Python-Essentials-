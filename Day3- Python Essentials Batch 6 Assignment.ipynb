{
 "cells": [
  {
   "cell_type": "code",
   "execution_count": 1,
   "metadata": {},
   "outputs": [
    {
     "name": "stdout",
     "output_type": "stream",
     "text": [
      "Enter the number: 6\n",
      "The sum of 6 is 21\n"
     ]
    }
   ],
   "source": [
    "num1=int(input(\"Enter the number: \"))\n",
    "sum1=0\n",
    "i=1\n",
    "while i<=num1:\n",
    "    sum1=sum1+i\n",
    "    i=i+1\n",
    "print(f\"The sum of {num1} is {sum1}\")"
   ]
  },
  {
   "cell_type": "code",
   "execution_count": 4,
   "metadata": {},
   "outputs": [
    {
     "name": "stdout",
     "output_type": "stream",
     "text": [
      "Enter the number: 3\n",
      "Number 3 is a prime number\n"
     ]
    }
   ],
   "source": [
    "num1=int(input(\"Enter the number: \")) \n",
    "if num1>1:\n",
    "    for i in range(2, num1): \n",
    "        if (num1 % i) == 0: \n",
    "            print (f\"Number {num1} is not a prime number\")\n",
    "            break\n",
    "    else:\n",
    "        print(f\"Number {num1} is a prime number\")\n",
    "else:\n",
    "    print(f\"Number {num1} is not a prime number\")"
   ]
  },
  {
   "cell_type": "code",
   "execution_count": 5,
   "metadata": {},
   "outputs": [
    {
     "name": "stdout",
     "output_type": "stream",
     "text": [
      "Enter the number: 46\n",
      "Number 46 is not a prime number\n"
     ]
    }
   ],
   "source": [
    "num1=int(input(\"Enter the number: \")) \n",
    "if num1>1:\n",
    "    for i in range(2, num1): \n",
    "        if (num1 % i) == 0: \n",
    "            print (f\"Number {num1} is not a prime number\")\n",
    "            break\n",
    "    else:\n",
    "        print(f\"Number {num1} is a prime number\")\n",
    "else:\n",
    "    print(f\"Number {num1} is not a prime number\")"
   ]
  },
  {
   "cell_type": "code",
   "execution_count": null,
   "metadata": {},
   "outputs": [],
   "source": []
  }
 ],
 "metadata": {
  "kernelspec": {
   "display_name": "Python 3",
   "language": "python",
   "name": "python3"
  },
  "language_info": {
   "codemirror_mode": {
    "name": "ipython",
    "version": 3
   },
   "file_extension": ".py",
   "mimetype": "text/x-python",
   "name": "python",
   "nbconvert_exporter": "python",
   "pygments_lexer": "ipython3",
   "version": "3.7.6"
  }
 },
 "nbformat": 4,
 "nbformat_minor": 4
}
